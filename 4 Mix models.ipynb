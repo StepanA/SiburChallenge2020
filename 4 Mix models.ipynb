{
 "cells": [
  {
   "cell_type": "markdown",
   "metadata": {},
   "source": [
    "# Mix models Sin vs catboosts"
   ]
  },
  {
   "cell_type": "code",
   "execution_count": 1,
   "metadata": {},
   "outputs": [],
   "source": [
    "import pandas as pd\n",
    "import numpy as np"
   ]
  },
  {
   "cell_type": "code",
   "execution_count": 2,
   "metadata": {},
   "outputs": [],
   "source": [
    "catboost_1_5 = pd.read_csv('data2/catboost_dataset1_models_1-5.csv', index_col='timestamp', parse_dates=True)\n",
    "catboost_6_10 = pd.read_csv('data2/catboost_dataset1_models_6-10.csv', index_col='timestamp', parse_dates=True)\n",
    "baseline_sin = pd.read_csv('data/model_baseline_sin.csv', index_col='timestamp', parse_dates=True)"
   ]
  },
  {
   "cell_type": "code",
   "execution_count": 3,
   "metadata": {},
   "outputs": [
    {
     "data": {
      "text/plain": [
       "array([[1.        , 0.85593833],\n",
       "       [0.85593833, 1.        ]])"
      ]
     },
     "execution_count": 3,
     "metadata": {},
     "output_type": "execute_result"
    }
   ],
   "source": [
    "np.corrcoef(catboost_6_10['B_C3H8'], baseline_sin['B_C3H8'])"
   ]
  },
  {
   "cell_type": "code",
   "execution_count": 4,
   "metadata": {},
   "outputs": [
    {
     "data": {
      "text/html": [
       "<div>\n",
       "<style scoped>\n",
       "    .dataframe tbody tr th:only-of-type {\n",
       "        vertical-align: middle;\n",
       "    }\n",
       "\n",
       "    .dataframe tbody tr th {\n",
       "        vertical-align: top;\n",
       "    }\n",
       "\n",
       "    .dataframe thead th {\n",
       "        text-align: right;\n",
       "    }\n",
       "</style>\n",
       "<table border=\"1\" class=\"dataframe\">\n",
       "  <thead>\n",
       "    <tr style=\"text-align: right;\">\n",
       "      <th></th>\n",
       "      <th>B_C2H6</th>\n",
       "      <th>B_C3H8</th>\n",
       "      <th>B_iC4H10</th>\n",
       "      <th>B_nC4H10</th>\n",
       "    </tr>\n",
       "    <tr>\n",
       "      <th>timestamp</th>\n",
       "      <th></th>\n",
       "      <th></th>\n",
       "      <th></th>\n",
       "      <th></th>\n",
       "    </tr>\n",
       "  </thead>\n",
       "  <tbody>\n",
       "    <tr>\n",
       "      <th>2020-05-01 00:00:00</th>\n",
       "      <td>5.100768</td>\n",
       "      <td>36.166541</td>\n",
       "      <td>16.172446</td>\n",
       "      <td>24.406837</td>\n",
       "    </tr>\n",
       "    <tr>\n",
       "      <th>2020-05-01 00:30:00</th>\n",
       "      <td>5.100719</td>\n",
       "      <td>36.165976</td>\n",
       "      <td>16.157286</td>\n",
       "      <td>24.405937</td>\n",
       "    </tr>\n",
       "    <tr>\n",
       "      <th>2020-05-01 01:00:00</th>\n",
       "      <td>5.100669</td>\n",
       "      <td>36.172994</td>\n",
       "      <td>16.128922</td>\n",
       "      <td>24.398736</td>\n",
       "    </tr>\n",
       "    <tr>\n",
       "      <th>2020-05-01 01:30:00</th>\n",
       "      <td>5.100620</td>\n",
       "      <td>36.174465</td>\n",
       "      <td>16.127387</td>\n",
       "      <td>24.393159</td>\n",
       "    </tr>\n",
       "    <tr>\n",
       "      <th>2020-05-01 02:00:00</th>\n",
       "      <td>5.100570</td>\n",
       "      <td>36.180466</td>\n",
       "      <td>16.136923</td>\n",
       "      <td>24.391364</td>\n",
       "    </tr>\n",
       "    <tr>\n",
       "      <th>...</th>\n",
       "      <td>...</td>\n",
       "      <td>...</td>\n",
       "      <td>...</td>\n",
       "      <td>...</td>\n",
       "    </tr>\n",
       "    <tr>\n",
       "      <th>2020-07-22 21:30:00</th>\n",
       "      <td>3.731125</td>\n",
       "      <td>38.539732</td>\n",
       "      <td>17.604020</td>\n",
       "      <td>24.887164</td>\n",
       "    </tr>\n",
       "    <tr>\n",
       "      <th>2020-07-22 22:00:00</th>\n",
       "      <td>3.707234</td>\n",
       "      <td>38.483882</td>\n",
       "      <td>17.565735</td>\n",
       "      <td>24.881196</td>\n",
       "    </tr>\n",
       "    <tr>\n",
       "      <th>2020-07-22 22:30:00</th>\n",
       "      <td>3.703964</td>\n",
       "      <td>38.471561</td>\n",
       "      <td>17.539918</td>\n",
       "      <td>24.905386</td>\n",
       "    </tr>\n",
       "    <tr>\n",
       "      <th>2020-07-22 23:00:00</th>\n",
       "      <td>3.704409</td>\n",
       "      <td>38.448081</td>\n",
       "      <td>17.602479</td>\n",
       "      <td>24.939085</td>\n",
       "    </tr>\n",
       "    <tr>\n",
       "      <th>2020-07-22 23:30:00</th>\n",
       "      <td>3.695218</td>\n",
       "      <td>38.429927</td>\n",
       "      <td>17.613017</td>\n",
       "      <td>24.944239</td>\n",
       "    </tr>\n",
       "  </tbody>\n",
       "</table>\n",
       "<p>3984 rows × 4 columns</p>\n",
       "</div>"
      ],
      "text/plain": [
       "                       B_C2H6     B_C3H8   B_iC4H10   B_nC4H10\n",
       "timestamp                                                     \n",
       "2020-05-01 00:00:00  5.100768  36.166541  16.172446  24.406837\n",
       "2020-05-01 00:30:00  5.100719  36.165976  16.157286  24.405937\n",
       "2020-05-01 01:00:00  5.100669  36.172994  16.128922  24.398736\n",
       "2020-05-01 01:30:00  5.100620  36.174465  16.127387  24.393159\n",
       "2020-05-01 02:00:00  5.100570  36.180466  16.136923  24.391364\n",
       "...                       ...        ...        ...        ...\n",
       "2020-07-22 21:30:00  3.731125  38.539732  17.604020  24.887164\n",
       "2020-07-22 22:00:00  3.707234  38.483882  17.565735  24.881196\n",
       "2020-07-22 22:30:00  3.703964  38.471561  17.539918  24.905386\n",
       "2020-07-22 23:00:00  3.704409  38.448081  17.602479  24.939085\n",
       "2020-07-22 23:30:00  3.695218  38.429927  17.613017  24.944239\n",
       "\n",
       "[3984 rows x 4 columns]"
      ]
     },
     "execution_count": 4,
     "metadata": {},
     "output_type": "execute_result"
    }
   ],
   "source": [
    "catboost1_catboost2_sin = catboost_1_5 * 0.15 + catboost_6_10 * 0.45 + baseline_sin * 0.4\n",
    "catboost1_catboost2_sin.to_csv('data/catboost1_catboost2_sin.csv')\n",
    "catboost1_catboost2_sin"
   ]
  },
  {
   "cell_type": "code",
   "execution_count": 5,
   "metadata": {},
   "outputs": [],
   "source": [
    "catboost1_catboost2_sin.to_csv('data/catboost1_catboost2_sin.csv')"
   ]
  }
 ],
 "metadata": {
  "kernelspec": {
   "display_name": "Python 3",
   "language": "python",
   "name": "python3"
  },
  "language_info": {
   "codemirror_mode": {
    "name": "ipython",
    "version": 3
   },
   "file_extension": ".py",
   "mimetype": "text/x-python",
   "name": "python",
   "nbconvert_exporter": "python",
   "pygments_lexer": "ipython3",
   "version": "3.6.4"
  },
  "toc": {
   "base_numbering": 1,
   "nav_menu": {},
   "number_sections": false,
   "sideBar": true,
   "skip_h1_title": false,
   "title_cell": "Table of Contents",
   "title_sidebar": "Contents",
   "toc_cell": false,
   "toc_position": {},
   "toc_section_display": true,
   "toc_window_display": true
  }
 },
 "nbformat": 4,
 "nbformat_minor": 4
}
